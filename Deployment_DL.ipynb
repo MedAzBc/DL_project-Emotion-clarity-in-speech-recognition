{
  "nbformat": 4,
  "nbformat_minor": 0,
  "metadata": {
    "colab": {
      "provenance": []
    },
    "kernelspec": {
      "name": "python3",
      "display_name": "Python 3"
    },
    "language_info": {
      "name": "python"
    }
  },
  "cells": [
    {
      "cell_type": "code",
      "execution_count": null,
      "metadata": {
        "colab": {
          "base_uri": "https://localhost:8080/"
        },
        "id": "jgMX_6qA0oE5",
        "outputId": "ebd9e9d3-6313-4e4f-c5e2-fd05980feeac"
      },
      "outputs": [
        {
          "output_type": "stream",
          "name": "stdout",
          "text": [
            "Collecting streamlit\n",
            "  Downloading streamlit-1.45.1-py3-none-any.whl.metadata (8.9 kB)\n",
            "Collecting pyngrok\n",
            "  Downloading pyngrok-7.2.8-py3-none-any.whl.metadata (10 kB)\n",
            "Requirement already satisfied: altair<6,>=4.0 in /usr/local/lib/python3.11/dist-packages (from streamlit) (5.5.0)\n",
            "Requirement already satisfied: blinker<2,>=1.5.0 in /usr/local/lib/python3.11/dist-packages (from streamlit) (1.9.0)\n",
            "Requirement already satisfied: cachetools<6,>=4.0 in /usr/local/lib/python3.11/dist-packages (from streamlit) (5.5.2)\n",
            "Requirement already satisfied: click<9,>=7.0 in /usr/local/lib/python3.11/dist-packages (from streamlit) (8.1.8)\n",
            "Requirement already satisfied: numpy<3,>=1.23 in /usr/local/lib/python3.11/dist-packages (from streamlit) (2.0.2)\n",
            "Requirement already satisfied: packaging<25,>=20 in /usr/local/lib/python3.11/dist-packages (from streamlit) (24.2)\n",
            "Requirement already satisfied: pandas<3,>=1.4.0 in /usr/local/lib/python3.11/dist-packages (from streamlit) (2.2.2)\n",
            "Requirement already satisfied: pillow<12,>=7.1.0 in /usr/local/lib/python3.11/dist-packages (from streamlit) (11.2.1)\n",
            "Requirement already satisfied: protobuf<7,>=3.20 in /usr/local/lib/python3.11/dist-packages (from streamlit) (5.29.4)\n",
            "Requirement already satisfied: pyarrow>=7.0 in /usr/local/lib/python3.11/dist-packages (from streamlit) (18.1.0)\n",
            "Requirement already satisfied: requests<3,>=2.27 in /usr/local/lib/python3.11/dist-packages (from streamlit) (2.32.3)\n",
            "Requirement already satisfied: tenacity<10,>=8.1.0 in /usr/local/lib/python3.11/dist-packages (from streamlit) (9.1.2)\n",
            "Requirement already satisfied: toml<2,>=0.10.1 in /usr/local/lib/python3.11/dist-packages (from streamlit) (0.10.2)\n",
            "Requirement already satisfied: typing-extensions<5,>=4.4.0 in /usr/local/lib/python3.11/dist-packages (from streamlit) (4.13.2)\n",
            "Collecting watchdog<7,>=2.1.5 (from streamlit)\n",
            "  Downloading watchdog-6.0.0-py3-none-manylinux2014_x86_64.whl.metadata (44 kB)\n",
            "\u001b[2K     \u001b[90m━━━━━━━━━━━━━━━━━━━━━━━━━━━━━━━━━━━━━━━━\u001b[0m \u001b[32m44.3/44.3 kB\u001b[0m \u001b[31m1.3 MB/s\u001b[0m eta \u001b[36m0:00:00\u001b[0m\n",
            "\u001b[?25hRequirement already satisfied: gitpython!=3.1.19,<4,>=3.0.7 in /usr/local/lib/python3.11/dist-packages (from streamlit) (3.1.44)\n",
            "Collecting pydeck<1,>=0.8.0b4 (from streamlit)\n",
            "  Downloading pydeck-0.9.1-py2.py3-none-any.whl.metadata (4.1 kB)\n",
            "Requirement already satisfied: tornado<7,>=6.0.3 in /usr/local/lib/python3.11/dist-packages (from streamlit) (6.4.2)\n",
            "Requirement already satisfied: PyYAML>=5.1 in /usr/local/lib/python3.11/dist-packages (from pyngrok) (6.0.2)\n",
            "Requirement already satisfied: jinja2 in /usr/local/lib/python3.11/dist-packages (from altair<6,>=4.0->streamlit) (3.1.6)\n",
            "Requirement already satisfied: jsonschema>=3.0 in /usr/local/lib/python3.11/dist-packages (from altair<6,>=4.0->streamlit) (4.23.0)\n",
            "Requirement already satisfied: narwhals>=1.14.2 in /usr/local/lib/python3.11/dist-packages (from altair<6,>=4.0->streamlit) (1.38.2)\n",
            "Requirement already satisfied: gitdb<5,>=4.0.1 in /usr/local/lib/python3.11/dist-packages (from gitpython!=3.1.19,<4,>=3.0.7->streamlit) (4.0.12)\n",
            "Requirement already satisfied: python-dateutil>=2.8.2 in /usr/local/lib/python3.11/dist-packages (from pandas<3,>=1.4.0->streamlit) (2.9.0.post0)\n",
            "Requirement already satisfied: pytz>=2020.1 in /usr/local/lib/python3.11/dist-packages (from pandas<3,>=1.4.0->streamlit) (2025.2)\n",
            "Requirement already satisfied: tzdata>=2022.7 in /usr/local/lib/python3.11/dist-packages (from pandas<3,>=1.4.0->streamlit) (2025.2)\n",
            "Requirement already satisfied: charset-normalizer<4,>=2 in /usr/local/lib/python3.11/dist-packages (from requests<3,>=2.27->streamlit) (3.4.2)\n",
            "Requirement already satisfied: idna<4,>=2.5 in /usr/local/lib/python3.11/dist-packages (from requests<3,>=2.27->streamlit) (3.10)\n",
            "Requirement already satisfied: urllib3<3,>=1.21.1 in /usr/local/lib/python3.11/dist-packages (from requests<3,>=2.27->streamlit) (2.4.0)\n",
            "Requirement already satisfied: certifi>=2017.4.17 in /usr/local/lib/python3.11/dist-packages (from requests<3,>=2.27->streamlit) (2025.4.26)\n",
            "Requirement already satisfied: smmap<6,>=3.0.1 in /usr/local/lib/python3.11/dist-packages (from gitdb<5,>=4.0.1->gitpython!=3.1.19,<4,>=3.0.7->streamlit) (5.0.2)\n",
            "Requirement already satisfied: MarkupSafe>=2.0 in /usr/local/lib/python3.11/dist-packages (from jinja2->altair<6,>=4.0->streamlit) (3.0.2)\n",
            "Requirement already satisfied: attrs>=22.2.0 in /usr/local/lib/python3.11/dist-packages (from jsonschema>=3.0->altair<6,>=4.0->streamlit) (25.3.0)\n",
            "Requirement already satisfied: jsonschema-specifications>=2023.03.6 in /usr/local/lib/python3.11/dist-packages (from jsonschema>=3.0->altair<6,>=4.0->streamlit) (2025.4.1)\n",
            "Requirement already satisfied: referencing>=0.28.4 in /usr/local/lib/python3.11/dist-packages (from jsonschema>=3.0->altair<6,>=4.0->streamlit) (0.36.2)\n",
            "Requirement already satisfied: rpds-py>=0.7.1 in /usr/local/lib/python3.11/dist-packages (from jsonschema>=3.0->altair<6,>=4.0->streamlit) (0.24.0)\n",
            "Requirement already satisfied: six>=1.5 in /usr/local/lib/python3.11/dist-packages (from python-dateutil>=2.8.2->pandas<3,>=1.4.0->streamlit) (1.17.0)\n",
            "Downloading streamlit-1.45.1-py3-none-any.whl (9.9 MB)\n",
            "\u001b[2K   \u001b[90m━━━━━━━━━━━━━━━━━━━━━━━━━━━━━━━━━━━━━━━━\u001b[0m \u001b[32m9.9/9.9 MB\u001b[0m \u001b[31m49.0 MB/s\u001b[0m eta \u001b[36m0:00:00\u001b[0m\n",
            "\u001b[?25hDownloading pyngrok-7.2.8-py3-none-any.whl (25 kB)\n",
            "Downloading pydeck-0.9.1-py2.py3-none-any.whl (6.9 MB)\n",
            "\u001b[2K   \u001b[90m━━━━━━━━━━━━━━━━━━━━━━━━━━━━━━━━━━━━━━━━\u001b[0m \u001b[32m6.9/6.9 MB\u001b[0m \u001b[31m58.7 MB/s\u001b[0m eta \u001b[36m0:00:00\u001b[0m\n",
            "\u001b[?25hDownloading watchdog-6.0.0-py3-none-manylinux2014_x86_64.whl (79 kB)\n",
            "\u001b[2K   \u001b[90m━━━━━━━━━━━━━━━━━━━━━━━━━━━━━━━━━━━━━━━━\u001b[0m \u001b[32m79.1/79.1 kB\u001b[0m \u001b[31m4.8 MB/s\u001b[0m eta \u001b[36m0:00:00\u001b[0m\n",
            "\u001b[?25hInstalling collected packages: watchdog, pyngrok, pydeck, streamlit\n",
            "Successfully installed pydeck-0.9.1 pyngrok-7.2.8 streamlit-1.45.1 watchdog-6.0.0\n"
          ]
        }
      ],
      "source": [
        "!pip install streamlit pyngrok\n"
      ]
    },
    {
      "cell_type": "code",
      "source": [
        "%%writefile app.py\n",
        "# app.py\n",
        "import streamlit as st\n",
        "import numpy as np\n",
        "import librosa\n",
        "import librosa.display\n",
        "import matplotlib.pyplot as plt\n",
        "import cv2\n",
        "from tensorflow.keras.models import load_model\n",
        "\n",
        "# --- CONFIGURATION ---\n",
        "\n",
        "# Available models (filename: display name)\n",
        "model_paths = {\n",
        "    \"Model A :LSTM\": \"emotion_recognition_model.h5\",\n",
        "    \"Model B :EfficientNet\": \"model_b.h5\",\n",
        "    \"Model C :ResNet50\": \"model_c.h5\"\n",
        "}\n",
        "\n",
        "# Define class labels (must match your training)\n",
        "class_names = np.array([\"Angry\", \"Happy\", \"Sad\", \"Neutral\", \"Fear\", \"Surprise\"])\n",
        "\n",
        "# --- STREAMLIT UI ---\n",
        "\n",
        "st.title(\"🎤 Emotion Detection from Audio\")\n",
        "st.write(\"Upload a WAV file and select a model to predict the emotion.\")\n",
        "\n",
        "# Model selector\n",
        "selected_model_name = st.selectbox(\"Choose a model:\", list(model_paths.keys()))\n",
        "selected_model_path = model_paths[selected_model_name]\n",
        "\n",
        "# Load the selected model\n",
        "@st.cache_resource\n",
        "def load_selected_model(path):\n",
        "    return load_model(path)\n",
        "\n",
        "model = load_selected_model(selected_model_path)\n",
        "\n",
        "# File uploader\n",
        "uploaded_file = st.file_uploader(\"Upload a WAV file\", type=[\"wav\"])\n",
        "\n",
        "if uploaded_file is not None:\n",
        "    # Load audio\n",
        "    y, sr = librosa.load(uploaded_file, sr=22050)\n",
        "\n",
        "    # Audio player\n",
        "    st.audio(uploaded_file, format='audio/wav')\n",
        "\n",
        "    # Mel Spectrogram\n",
        "    mel = librosa.feature.melspectrogram(y=y, sr=sr)\n",
        "    mel_db = librosa.power_to_db(mel, ref=np.max)\n",
        "\n",
        "    # Show spectrogram\n",
        "    fig, ax = plt.subplots(figsize=(6, 4))\n",
        "    img = librosa.display.specshow(mel_db, sr=sr, x_axis='time', y_axis='mel', ax=ax)\n",
        "    ax.set(title='Mel Spectrogram')\n",
        "    fig.colorbar(img, ax=ax, format=\"%+2.f dB\")\n",
        "    st.pyplot(fig)\n",
        "\n",
        "    # --- Preprocessing based on model input shape ---\n",
        "    model_input_shape = model.input_shape  # e.g. (None, 128, 128, 1) or (None, 128, 1) or (None, 128)\n",
        "\n",
        "    mel_resized = cv2.resize(mel_db, (128, 128))\n",
        "    mel_normalized = (mel_resized - mel_resized.min()) / (mel_resized.max() - mel_resized.min())\n",
        "\n",
        "    if len(model_input_shape) == 4:\n",
        "        # Likely Conv2D: (batch, 128, 128, 1)\n",
        "        input_array = mel_normalized.reshape(1, 128, 128, 1)\n",
        "\n",
        "    elif len(model_input_shape) == 3:\n",
        "        # Likely Conv1D or LSTM: (batch, 128, 1) or (batch, 128)\n",
        "        # Reduce to 1D over frequency\n",
        "        mean_vector = np.mean(mel_normalized, axis=0)\n",
        "        if model_input_shape[-1] == 1:\n",
        "            input_array = mean_vector.reshape(1, 128, 1)\n",
        "        else:\n",
        "            input_array = mean_vector.reshape(1, 128)\n",
        "\n",
        "    else:\n",
        "        st.error(f\"Unsupported model input shape: {model_input_shape}\")\n",
        "        st.stop()\n",
        "\n",
        "    # Predict\n",
        "    predictions = model.predict(input_array)[0]\n",
        "    predicted_index = np.argmax(predictions)\n",
        "    predicted_label = class_names[predicted_index]\n",
        "\n",
        "    # Results\n",
        "    st.success(f\"**Predicted Emotion:** {predicted_label} ({predictions[predicted_index]*100:.2f}%)\")\n",
        "\n",
        "    st.subheader(\"Class Probabilities\")\n",
        "    for i, prob in enumerate(predictions):\n",
        "        st.write(f\"{class_names[i]}: {prob*100:.2f}%\")\n"
      ],
      "metadata": {
        "colab": {
          "base_uri": "https://localhost:8080/"
        },
        "id": "KxCuf22U04Zd",
        "outputId": "d192acb2-570e-46f6-b41d-dcec5e96c376"
      },
      "execution_count": null,
      "outputs": [
        {
          "output_type": "stream",
          "name": "stdout",
          "text": [
            "Overwriting app.py\n"
          ]
        }
      ]
    },
    {
      "cell_type": "code",
      "source": [
        "from pyngrok import ngrok\n",
        "\n",
        "# Add your auth token\n",
        "ngrok.set_auth_token(\"2x6ZVT1pcHmfFjHJL40WoGxnn40_2PjYgzDptE7s1h7ypUyeo\")\n",
        "\n",
        "# Kill previous instances (just in case)\n",
        "!pkill streamlit\n",
        "\n",
        "# Run Streamlit app\n",
        "!streamlit run app.py &> streamlit_log.txt &\n",
        "\n",
        "# Open the port using ngrok\n",
        "public_url = ngrok.connect(addr=8501)\n",
        "print(f\"🌐 Streamlit app is live at: {public_url}\")\n"
      ],
      "metadata": {
        "colab": {
          "base_uri": "https://localhost:8080/"
        },
        "id": "inOoUsUd1bMq",
        "outputId": "3fd8c935-d449-4f8c-c56d-51a509b9fa5b"
      },
      "execution_count": null,
      "outputs": [
        {
          "output_type": "stream",
          "name": "stdout",
          "text": [
            "🌐 Streamlit app is live at: NgrokTunnel: \"https://5b06-34-23-144-134.ngrok-free.app\" -> \"http://localhost:8501\"\n"
          ]
        }
      ]
    }
  ]
}